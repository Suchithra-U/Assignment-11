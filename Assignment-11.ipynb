{
 "cells": [
  {
   "cell_type": "code",
   "execution_count": 4,
   "metadata": {},
   "outputs": [
    {
     "name": "stdout",
     "output_type": "stream",
     "text": [
      "Hello\n",
      "I am Suchithra.U\n",
      "Studying in Gitam University\n"
     ]
    }
   ],
   "source": [
    "#To read an entire text file\n",
    "f=open(\"python.txt\")\n",
    "print(f.read())"
   ]
  },
  {
   "cell_type": "code",
   "execution_count": 5,
   "metadata": {},
   "outputs": [
    {
     "name": "stdout",
     "output_type": "stream",
     "text": [
      "Enter no of lines to be read: 3\n",
      "Hello\n",
      "\n",
      "I am Suchithra.U\n",
      "\n",
      "Studying in Gitam University\n",
      "\n"
     ]
    }
   ],
   "source": [
    "#To read first n lines of a file\n",
    "f=open(\"python.txt\")\n",
    "n=int(input(\"Enter no of lines to be read: \"))\n",
    "for i in range(n):\n",
    "    print(f.readline())"
   ]
  },
  {
   "cell_type": "code",
   "execution_count": 2,
   "metadata": {},
   "outputs": [
    {
     "name": "stdout",
     "output_type": "stream",
     "text": [
      "Enter string to be appended:Ks\n",
      "Hello\n",
      "I am Suchithra.U\n",
      "Studying in Gitam University\n",
      "Ist year \n",
      "B-tech(cse)\n",
      "SuchiKs\n"
     ]
    }
   ],
   "source": [
    "#To append text to file and display the text\n",
    "f=open(\"python.text\",\"a\")\n",
    "s=input(\"Enter string to be appended:\")\n",
    "f.write(s)\n",
    "f.close()\n",
    "f=open(\"python.txt\")\n",
    "print(f.read())\n"
   ]
  },
  {
   "cell_type": "code",
   "execution_count": 3,
   "metadata": {},
   "outputs": [
    {
     "name": "stdout",
     "output_type": "stream",
     "text": [
      "Hello\n",
      "\n",
      "Hello\n",
      "I am Suchithra.U\n",
      "\n",
      "Hello\n",
      "I am Suchithra.U\n",
      "Studying in Gitam University\n",
      "\n",
      "Hello\n",
      "I am Suchithra.U\n",
      "Studying in Gitam University\n",
      "Ist year \n",
      "\n",
      "Hello\n",
      "I am Suchithra.U\n",
      "Studying in Gitam University\n",
      "Ist year \n",
      "B-tech(cse)\n",
      "\n",
      "Hello\n",
      "I am Suchithra.U\n",
      "Studying in Gitam University\n",
      "Ist year \n",
      "B-tech(cse)\n",
      "SuchiKs\n"
     ]
    }
   ],
   "source": [
    "#To read a file line by line and store it into variable\n",
    "f=open(\"python.txt\")\n",
    "str=''\n",
    "for i in f:\n",
    "    str=str+i\n",
    "    print(str)"
   ]
  },
  {
   "cell_type": "code",
   "execution_count": 5,
   "metadata": {},
   "outputs": [
    {
     "name": "stdout",
     "output_type": "stream",
     "text": [
      "['Hello\\n']\n",
      "['Hello\\n', 'I am Suchithra.U\\n']\n",
      "['Hello\\n', 'I am Suchithra.U\\n', 'Studying in Gitam University\\n']\n",
      "['Hello\\n', 'I am Suchithra.U\\n', 'Studying in Gitam University\\n', 'Ist year \\n']\n",
      "['Hello\\n', 'I am Suchithra.U\\n', 'Studying in Gitam University\\n', 'Ist year \\n', 'B-tech(cse)\\n']\n",
      "['Hello\\n', 'I am Suchithra.U\\n', 'Studying in Gitam University\\n', 'Ist year \\n', 'B-tech(cse)\\n', 'SuchiKs']\n"
     ]
    }
   ],
   "source": [
    "#To read a file line by line store it into a list\n",
    "f=open(\"python.txt\")\n",
    "l1=[]\n",
    "for i in f:\n",
    "    l1.append(i)\n",
    "    print(l1)"
   ]
  },
  {
   "cell_type": "code",
   "execution_count": 6,
   "metadata": {},
   "outputs": [
    {
     "name": "stdout",
     "output_type": "stream",
     "text": [
      "1\n",
      "2\n",
      "3\n",
      "4\n",
      "5\n",
      "6\n"
     ]
    }
   ],
   "source": [
    "#To read a file line by line store it into an array\n",
    "f=open(\"python.txt\")\n",
    "l1=[]\n",
    "for i in f:\n",
    "    l1.append(i)\n",
    "    print(len(l1))"
   ]
  },
  {
   "cell_type": "code",
   "execution_count": 7,
   "metadata": {},
   "outputs": [
    {
     "name": "stdout",
     "output_type": "stream",
     "text": [
      "81\n"
     ]
    }
   ],
   "source": [
    "#To get the file size of a plain file\n",
    "f=open(\"python.txt\")\n",
    "str=f.read()\n",
    "print(len(str))"
   ]
  },
  {
   "cell_type": "code",
   "execution_count": 9,
   "metadata": {},
   "outputs": [
    {
     "name": "stdout",
     "output_type": "stream",
     "text": [
      "1\n",
      "2\n",
      "3\n",
      "4\n",
      "5\n",
      "6\n",
      "7\n"
     ]
    }
   ],
   "source": [
    "#To count number of lines in a text file\n",
    "f=open(\"python.txt\")\n",
    "l1=[]\n",
    "for i in f:\n",
    "    l1.append(i)\n",
    "    print(len(l1))"
   ]
  },
  {
   "cell_type": "code",
   "execution_count": 10,
   "metadata": {},
   "outputs": [
    {
     "name": "stdout",
     "output_type": "stream",
     "text": [
      "Hello\n",
      "I am Suchithra.U\n",
      "Studying in Gitam University\n",
      "Ist year \n",
      "B-tech(cse)\n",
      "SuchiKs\n",
      "Hostler\n"
     ]
    }
   ],
   "source": [
    "#To copy the contents of a file to another file\n",
    "f=open(\"python.txt\",\"a\")\n",
    "f1=open(\"python1.txt\",\"r\")\n",
    "for i in f1:\n",
    "    f.write(i)\n",
    "f.close()\n",
    "f=open(\"python.txt\")\n",
    "print(f.read())"
   ]
  },
  {
   "cell_type": "code",
   "execution_count": 11,
   "metadata": {},
   "outputs": [
    {
     "name": "stdout",
     "output_type": "stream",
     "text": [
      "Enter n:1\n",
      "['Studying in Gitam University\\n']\n"
     ]
    }
   ],
   "source": [
    "#To read last n lines of a file\n",
    "f=open(\"python.txt\")\n",
    "l1=f.readlines()\n",
    "m=len(l1)\n",
    "n=int(input(\"Enter n:\"))\n",
    "print(l1[(m-n):])"
   ]
  },
  {
   "cell_type": "code",
   "execution_count": null,
   "metadata": {},
   "outputs": [],
   "source": []
  }
 ],
 "metadata": {
  "kernelspec": {
   "display_name": "Python 3",
   "language": "python",
   "name": "python3"
  },
  "language_info": {
   "codemirror_mode": {
    "name": "ipython",
    "version": 3
   },
   "file_extension": ".py",
   "mimetype": "text/x-python",
   "name": "python",
   "nbconvert_exporter": "python",
   "pygments_lexer": "ipython3",
   "version": "3.8.3"
  }
 },
 "nbformat": 4,
 "nbformat_minor": 4
}
